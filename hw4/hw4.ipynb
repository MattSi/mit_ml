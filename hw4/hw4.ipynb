{
 "cells": [
  {
   "metadata": {},
   "cell_type": "code",
   "outputs": [],
   "execution_count": 3,
   "source": [
    "import numpy as np\n",
    "from numpy.linalg import norm"
   ],
   "id": "initial_id"
  },
  {
   "metadata": {
    "ExecuteTime": {
     "end_time": "2025-05-03T20:39:01.352843Z",
     "start_time": "2025-05-03T20:39:01.339584Z"
    }
   },
   "cell_type": "code",
   "source": [
    "#############################################################################################\n",
    "#   Utilities\n",
    "def rv(value_list):\n",
    "    '''\n",
    "    Takes a list of numbers and returns a row vectors: 1 x n\n",
    "    '''\n",
    "    return np.array([value_list])\n",
    "\n",
    "def cv(value_list):\n",
    "    '''\n",
    "    Takes a list of numbers and returns a column vector: n x 1\n",
    "    '''\n",
    "    return np.transpose(rv(value_list))\n",
    "\n",
    "def y(x, th, th0):\n",
    "    '''\n",
    "    x is dimension d by 1\n",
    "    th is dimension n by 1\n",
    "    th0 is a scalar\n",
    "    return 1 by 1 matrix\n",
    "    '''\n",
    "    return np.dot(np.transpose(th), x) + th0\n",
    "\n",
    "def positive(x, th, th0):\n",
    "    '''\n",
    "    x is dimension n by 1\n",
    "    th is dimension n by 1\n",
    "    th0 is a scalar\n",
    "    return 1 by 1 matrix  of +1, 0, -1\n",
    "    '''\n",
    "    return np.sign(y(x, th, th0))\n",
    "\n",
    "def score(data, labels, th, th0):\n",
    "    '''\n",
    "    data is dimension d by n\n",
    "    labels is dimension 1 by n\n",
    "    th is dimension d by 1\n",
    "    th0 is dimension 1 by 1\n",
    "    return 1 by 1 matrix of integer indicating number of data points correct for each separator\n",
    "    '''\n",
    "    return np.sum(positive(data, th, th0) == labels)\n",
    "\n"
   ],
   "id": "a1b728ba1eb24aa4",
   "outputs": [],
   "execution_count": 41
  },
  {
   "metadata": {
    "ExecuteTime": {
     "end_time": "2025-05-03T20:53:13.923790Z",
     "start_time": "2025-05-03T20:53:13.909965Z"
    }
   },
   "cell_type": "code",
   "source": [
    "data = np.array([[1,2,1,2,10,10.3,10.5,10.7],\n",
    "                 [1,1,2,2,2,2,2,2]])\n",
    "labels = np.array([[-1, -1, 1, 1, 1, 1, 1, 1]])\n",
    "blue_th = np.array([[0,1]]).T\n",
    "blue_th0 = -1.5\n",
    "red_th = np.array([[1,0]]).T\n",
    "red_th0 = -2.5"
   ],
   "id": "904da7e865a7ea7e",
   "outputs": [],
   "execution_count": 79
  },
  {
   "metadata": {
    "ExecuteTime": {
     "end_time": "2025-05-03T20:53:14.359329Z",
     "start_time": "2025-05-03T20:53:14.346102Z"
    }
   },
   "cell_type": "code",
   "source": [
    "def margins(data, labels, theta, theta_0):\n",
    "    n = norm(theta)\n",
    "    _, col = data.shape\n",
    "    max_margin = -np.inf\n",
    "    min_margin = np.inf\n",
    "    sum_margin = 0\n",
    "    for i in range(col):\n",
    "        x_i = data[:, i:i+1]\n",
    "        y_i = labels[:, i:i+1]\n",
    "        margin = y_i * y(theta, x_i, theta_0) / n\n",
    "        if margin > max_margin:\n",
    "            max_margin = margin\n",
    "        if margin < min_margin:\n",
    "            min_margin = margin\n",
    "        sum_margin += np.sum(margin)\n",
    "    print(\"max_margin\", np.sum(max_margin))\n",
    "    print(\"min_margin\", np.sum(min_margin))\n",
    "    print(\"sum_margin\", sum_margin)"
   ],
   "id": "620ac47b193decf3",
   "outputs": [],
   "execution_count": 80
  },
  {
   "metadata": {
    "ExecuteTime": {
     "end_time": "2025-05-03T20:53:17.076076Z",
     "start_time": "2025-05-03T20:53:17.064218Z"
    }
   },
   "cell_type": "code",
   "source": "margins(data, labels, blue_th, blue_th0)",
   "id": "d31bc174d993182c",
   "outputs": [
    {
     "name": "stdout",
     "output_type": "stream",
     "text": [
      "max_margin 0.5\n",
      "min_margin 0.5\n",
      "sum_margin 4.0\n"
     ]
    }
   ],
   "execution_count": 81
  },
  {
   "metadata": {
    "ExecuteTime": {
     "end_time": "2025-05-04T00:07:57.975772Z",
     "start_time": "2025-05-04T00:07:57.964737Z"
    }
   },
   "cell_type": "code",
   "source": [
    "def loss_hinge(data, labels, theta, theta_0, r_ref):\n",
    "    n = norm(theta)\n",
    "    l_h = 0\n",
    "    _, col = data.shape\n",
    "    for i in range(col):\n",
    "        x_i = data[:, i:i+1]\n",
    "        y_i = labels[:, i:i+1]\n",
    "        r = np.sum(y_i * y(theta, x_i, theta_0) / n)\n",
    "        if r < r_ref:\n",
    "            l_h = 1 - r/r_ref\n",
    "        else:\n",
    "            l_h = 0\n",
    "        print(l_h)\n",
    "    pass"
   ],
   "id": "308b4880fff762",
   "outputs": [],
   "execution_count": 82
  },
  {
   "metadata": {
    "ExecuteTime": {
     "end_time": "2025-05-04T00:08:12.091625Z",
     "start_time": "2025-05-04T00:08:12.079217Z"
    }
   },
   "cell_type": "code",
   "source": [
    "data = np.array([[1.1, 1, 4],[3.1, 1, 2]])\n",
    "labels = np.array([[1, -1, -1]])\n",
    "th = np.array([[1, 1]]).T\n",
    "th0 = -4"
   ],
   "id": "7a5f91b105468202",
   "outputs": [],
   "execution_count": 83
  },
  {
   "metadata": {
    "ExecuteTime": {
     "end_time": "2025-05-04T00:09:13.727086Z",
     "start_time": "2025-05-04T00:09:13.715187Z"
    }
   },
   "cell_type": "code",
   "source": [
    "import math\n",
    "loss_hinge(data, labels, th, th0, math.sqrt(2)/2)"
   ],
   "id": "c809e438613fe6f1",
   "outputs": [
    {
     "name": "stdout",
     "output_type": "stream",
     "text": [
      "0.7999999999999998\n",
      "0\n",
      "3.0\n"
     ]
    }
   ],
   "execution_count": 84
  },
  {
   "metadata": {
    "ExecuteTime": {
     "end_time": "2025-05-04T01:44:21.586709Z",
     "start_time": "2025-05-04T01:44:21.576736Z"
    }
   },
   "cell_type": "code",
   "source": [
    "def loss_hinge2(data, labels, theta, theta_0, lmda):\n",
    "    r_ref = 1 / norm(theta)\n",
    "    print(\"r_ref\", r_ref)\n",
    "    n = norm(theta)\n",
    "    print(\"n\", n)\n",
    "    sum_l_h = 0\n",
    "    _, col = data.shape\n",
    "    for i in range(col):\n",
    "        x_i = data[:, i:i+1]\n",
    "        y_i = labels[:, i:i+1]\n",
    "        r = np.sum(y_i * y(theta, x_i, theta_0) / n)\n",
    "        print(\"r\", r)\n",
    "        l_h = r/r_ref\n",
    "        sum_l_h += l_h\n",
    "    sum_l_h /= col\n",
    "    sum_l_h += lmda*n*n\n",
    "    print(\"sum_l_h\", sum_l_h)\n"
   ],
   "id": "71b0d142fb0b0d52",
   "outputs": [],
   "execution_count": 119
  },
  {
   "metadata": {
    "ExecuteTime": {
     "end_time": "2025-05-04T01:44:21.975118Z",
     "start_time": "2025-05-04T01:44:21.962681Z"
    }
   },
   "cell_type": "code",
   "source": [
    "data = np.array([[1, 3],\n",
    "                 [1, 2]])\n",
    "labels = np.array([[-1, 1]])\n",
    "th1 = np.array([[-0.0737901, 2.40847205]]).T\n",
    "th1_0 = -3.492621154916483\n",
    "th2 = np.array([[-0.23069578, 2.55735501]]).T\n",
    "th2_0 = -3.3857770692522666"
   ],
   "id": "c2d6d33127da372f",
   "outputs": [],
   "execution_count": 120
  },
  {
   "metadata": {
    "ExecuteTime": {
     "end_time": "2025-05-04T01:44:22.792347Z",
     "start_time": "2025-05-04T01:44:22.781027Z"
    }
   },
   "cell_type": "code",
   "source": "loss_hinge2(data, labels, th1, th1_0, 0)",
   "id": "9e305d353b5ae20d",
   "outputs": [
    {
     "name": "stdout",
     "output_type": "stream",
     "text": [
      "r_ref 0.41500626719476463\n",
      "n 2.409602165190182\n",
      "r 0.4805520270708633\n",
      "r 0.4577322601287022\n",
      "sum_l_h 1.1304459249999996\n"
     ]
    }
   ],
   "execution_count": 121
  },
  {
   "metadata": {
    "ExecuteTime": {
     "end_time": "2025-05-04T01:44:32.771350Z",
     "start_time": "2025-05-04T01:44:32.759171Z"
    }
   },
   "cell_type": "code",
   "source": "loss_hinge2(data, labels, th2, th2_0, 0.001)",
   "id": "21b993c7f18de7d1",
   "outputs": [
    {
     "name": "stdout",
     "output_type": "stream",
     "text": [
      "r_ref 0.3894476336194467\n",
      "n 2.567739315055543\n",
      "r 0.41247093622093667\n",
      "r 0.40379706953441497\n",
      "sum_l_h 1.0545750101900822\n"
     ]
    }
   ],
   "execution_count": 122
  },
  {
   "metadata": {},
   "cell_type": "code",
   "outputs": [],
   "execution_count": null,
   "source": "",
   "id": "9dacae471fa934e"
  }
 ],
 "metadata": {
  "kernelspec": {
   "display_name": "Python 3",
   "language": "python",
   "name": "python3"
  },
  "language_info": {
   "codemirror_mode": {
    "name": "ipython",
    "version": 2
   },
   "file_extension": ".py",
   "mimetype": "text/x-python",
   "name": "python",
   "nbconvert_exporter": "python",
   "pygments_lexer": "ipython2",
   "version": "2.7.6"
  }
 },
 "nbformat": 4,
 "nbformat_minor": 5
}
