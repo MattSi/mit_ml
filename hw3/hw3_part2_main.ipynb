{
 "cells": [
  {
   "cell_type": "code",
   "id": "initial_id",
   "metadata": {
    "collapsed": true,
    "ExecuteTime": {
     "end_time": "2025-05-01T14:03:12.959181Z",
     "start_time": "2025-05-01T14:03:12.219570Z"
    }
   },
   "source": [
    "import pdb\n",
    "import numpy as np\n",
    "import code_for_hw3_part2 as hw3\n",
    "\n",
    "#-------------------------------------------------------------------------------\n",
    "# Auto Data\n",
    "#-------------------------------------------------------------------------------\n",
    "\n",
    "# Returns a list of dictionaries.  Keys are the column names, including mpg.\n",
    "auto_data_all = hw3.load_auto_data('auto-mpg.tsv')\n",
    "\n",
    "# The choice of feature processing for each feature, mpg is always raw and\n",
    "# does not need to be specified.  Other choices are hw3.standard and hw3.one_hot.\n",
    "# 'name' is not numeric and would need a different encoding.\n",
    "features = [('cylinders', hw3.raw),\n",
    "            ('displacement', hw3.raw),\n",
    "            ('horsepower', hw3.raw),\n",
    "            ('weight', hw3.raw),\n",
    "            ('acceleration', hw3.raw),\n",
    "            ## Drop model_year by default\n",
    "            ## ('model_year', hw3.raw),\n",
    "            ('origin', hw3.raw)]\n",
    "\n",
    "# Construct the standard data and label arrays\n",
    "auto_data, auto_labels = hw3.auto_data_and_labels(auto_data_all, features)\n",
    "print('auto data and labels shape', auto_data.shape, auto_labels.shape)\n",
    "\n",
    "if False:                               # set to True to see histograms\n",
    "    import matplotlib.pyplot as plt\n",
    "    for feat in range(auto_data.shape[0]):\n",
    "        print('Feature', feat, features[feat][0])\n",
    "        # Plot histograms in one window, different colors\n",
    "        plt.hist(auto_data[feat,auto_labels[0,:] > 0])\n",
    "        plt.hist(auto_data[feat,auto_labels[0,:] < 0])\n",
    "        plt.show()\n",
    "        # Plot histograms in two windows, different colors\n",
    "        fig,(a1,a2) = plt.subplots(nrows=2)\n",
    "        a1.hist(auto_data[feat,auto_labels[0,:] > 0])\n",
    "        a2.hist(auto_data[feat,auto_labels[0,:] < 0])\n",
    "        plt.show()"
   ],
   "outputs": [
    {
     "name": "stdout",
     "output_type": "stream",
     "text": [
      "Importing code_for_hw03 (part 2, imported as hw3)\n",
      "Imported tidy_plot, plot_separator, plot_data, plot_nonlin_sep, cv, rv, y, positive, score\n",
      "         xval_learning_alg, eval_classifier\n",
      "Tests: test_linear_classifier\n",
      "Dataset tools: load_auto_data, std_vals, standard, raw, one_hot, auto_data_and_labels\n",
      "               load_review_data, clean, extract_words, bag_of_words, extract_bow_feature_vectors\n",
      "               load_mnist_data, load_mnist_single\n",
      "avg and std {}\n",
      "entries in one_hot field {}\n",
      "auto data and labels shape (6, 392) (1, 392)\n"
     ]
    }
   ],
   "execution_count": 2
  },
  {
   "metadata": {
    "ExecuteTime": {
     "end_time": "2025-05-01T14:03:28.968159Z",
     "start_time": "2025-05-01T14:03:24.599761Z"
    }
   },
   "cell_type": "code",
   "source": [
    "#-------------------------------------------------------------------------------\n",
    "# Analyze auto data\n",
    "#-------------------------------------------------------------------------------\n",
    "# Your code here to process the auto data\n",
    "T_values = [1, 10, 50]\n",
    "feature_sets = [\n",
    "    [('cylinders', hw3.raw),('displacement', hw3.raw),('horsepower', hw3.raw),('weight', hw3.raw),('acceleration', hw3.raw),('origin', hw3.raw)],\n",
    "    [('cylinders', hw3.one_hot),('displacement', hw3.standard),('horsepower', hw3.standard),('weight', hw3.standard),('acceleration', hw3.standard),('origin', hw3.one_hot)]\n",
    "]\n",
    "learners = {\n",
    "    \"perceptron\": hw3.perceptron,\n",
    "    \"averaged_perceptron\": hw3.averaged_perceptron\n",
    "}\n",
    "\n",
    "for learner_name, learner_fn in learners.items():\n",
    "    for T in T_values:\n",
    "        for i, features in enumerate(feature_sets, start=1):\n",
    "            data, labels = hw3.auto_data_and_labels(auto_data_all, features)\n",
    "            acc = hw3.xval_learning_alg(lambda d, l: learner_fn(d, l, {\"T\": T}), data, labels, 10)\n",
    "            print(f\"Accuracy ({learner_name}) for T= {T}, feature set {i} : {acc:.4f}\")\n",
    "\n",
    "print(\"=================================================================\")\n"
   ],
   "id": "d93d4c45c948697d",
   "outputs": [
    {
     "name": "stdout",
     "output_type": "stream",
     "text": [
      "avg and std {}\n",
      "entries in one_hot field {}\n",
      "Accuracy (perceptron) for T= 1, feature set 1 : 0.6526\n",
      "avg and std {'displacement': (388.3482142857143, 302.0458123396403), 'horsepower': (509.3545918367347, 333.6521151716361), 'weight': (2977.5841836734694, 848.3184465698365), 'acceleration': (15.541326530612228, 2.7553429127509963)}\n",
      "entries in one_hot field {'cylinders': [3.0, 4.0, 5.0, 6.0, 8.0], 'origin': [1.0, 2.0, 3.0]}\n",
      "Accuracy (perceptron) for T= 1, feature set 2 : 0.7908\n",
      "avg and std {}\n",
      "entries in one_hot field {}\n",
      "Accuracy (perceptron) for T= 10, feature set 1 : 0.7423\n",
      "avg and std {'displacement': (388.3482142857143, 302.0458123396403), 'horsepower': (509.3545918367347, 333.6521151716361), 'weight': (2977.5841836734694, 848.3184465698365), 'acceleration': (15.541326530612228, 2.7553429127509963)}\n",
      "entries in one_hot field {'cylinders': [3.0, 4.0, 5.0, 6.0, 8.0], 'origin': [1.0, 2.0, 3.0]}\n",
      "Accuracy (perceptron) for T= 10, feature set 2 : 0.8062\n",
      "avg and std {}\n",
      "entries in one_hot field {}\n",
      "Accuracy (perceptron) for T= 50, feature set 1 : 0.6910\n",
      "avg and std {'displacement': (388.3482142857143, 302.0458123396403), 'horsepower': (509.3545918367347, 333.6521151716361), 'weight': (2977.5841836734694, 848.3184465698365), 'acceleration': (15.541326530612228, 2.7553429127509963)}\n",
      "entries in one_hot field {'cylinders': [3.0, 4.0, 5.0, 6.0, 8.0], 'origin': [1.0, 2.0, 3.0]}\n",
      "Accuracy (perceptron) for T= 50, feature set 2 : 0.8060\n",
      "avg and std {}\n",
      "entries in one_hot field {}\n",
      "Accuracy (averaged_perceptron) for T= 1, feature set 1 : 0.8441\n",
      "avg and std {'displacement': (388.3482142857143, 302.0458123396403), 'horsepower': (509.3545918367347, 333.6521151716361), 'weight': (2977.5841836734694, 848.3184465698365), 'acceleration': (15.541326530612228, 2.7553429127509963)}\n",
      "entries in one_hot field {'cylinders': [3.0, 4.0, 5.0, 6.0, 8.0], 'origin': [1.0, 2.0, 3.0]}\n",
      "Accuracy (averaged_perceptron) for T= 1, feature set 2 : 0.9004\n",
      "avg and std {}\n",
      "entries in one_hot field {}\n",
      "Accuracy (averaged_perceptron) for T= 10, feature set 1 : 0.8366\n",
      "avg and std {'displacement': (388.3482142857143, 302.0458123396403), 'horsepower': (509.3545918367347, 333.6521151716361), 'weight': (2977.5841836734694, 848.3184465698365), 'acceleration': (15.541326530612228, 2.7553429127509963)}\n",
      "entries in one_hot field {'cylinders': [3.0, 4.0, 5.0, 6.0, 8.0], 'origin': [1.0, 2.0, 3.0]}\n",
      "Accuracy (averaged_perceptron) for T= 10, feature set 2 : 0.8979\n",
      "avg and std {}\n",
      "entries in one_hot field {}\n",
      "Accuracy (averaged_perceptron) for T= 50, feature set 1 : 0.8366\n",
      "avg and std {'displacement': (388.3482142857143, 302.0458123396403), 'horsepower': (509.3545918367347, 333.6521151716361), 'weight': (2977.5841836734694, 848.3184465698365), 'acceleration': (15.541326530612228, 2.7553429127509963)}\n",
      "entries in one_hot field {'cylinders': [3.0, 4.0, 5.0, 6.0, 8.0], 'origin': [1.0, 2.0, 3.0]}\n",
      "Accuracy (averaged_perceptron) for T= 50, feature set 2 : 0.9005\n",
      "=================================================================\n"
     ]
    }
   ],
   "execution_count": 3
  },
  {
   "metadata": {
    "ExecuteTime": {
     "end_time": "2025-05-01T14:03:38.010646Z",
     "start_time": "2025-05-01T14:03:37.892011Z"
    }
   },
   "cell_type": "code",
   "source": [
    "def get_feature_names(features):\n",
    "    names = []\n",
    "    for name, transform in features:\n",
    "        if transform == hw3.raw or transform == hw3.standard:\n",
    "            names.append(name)\n",
    "        elif transform == hw3.one_hot:\n",
    "            unique_vals = list(set(entry[name] for entry in auto_data_all))\n",
    "            for val in unique_vals:\n",
    "                names.append(f\"{name}={val}\")\n",
    "    return names\n",
    "\n",
    "\n",
    "\n",
    "best_features = [('cylinders', hw3.one_hot),('displacement', hw3.standard),('horsepower', hw3.standard),('weight', hw3.standard),('acceleration', hw3.standard),('origin', hw3.one_hot)]\n",
    "data, labels = hw3.auto_data_and_labels(auto_data_all, best_features)\n",
    "theta, theta_0 = hw3.averaged_perceptron(data, labels, {\"T\": 50})\n",
    "impact = np.abs(theta).flatten()\n",
    "max_index = np.argmax(impact)\n",
    "feature_names = get_feature_names(best_features)\n",
    "print(\"影响最大的是：\", feature_names[max_index])\n",
    "print(\"=================================================================\")\n"
   ],
   "id": "85d5aacd7e0aa6e8",
   "outputs": [
    {
     "name": "stdout",
     "output_type": "stream",
     "text": [
      "avg and std {'displacement': (388.3482142857143, 302.0458123396403), 'horsepower': (509.3545918367347, 333.6521151716361), 'weight': (2977.5841836734694, 848.3184465698365), 'acceleration': (15.541326530612228, 2.7553429127509963)}\n",
      "entries in one_hot field {'cylinders': [3.0, 4.0, 5.0, 6.0, 8.0], 'origin': [1.0, 2.0, 3.0]}\n",
      "影响最大的是： weight\n",
      "=================================================================\n"
     ]
    }
   ],
   "execution_count": 4
  },
  {
   "metadata": {},
   "cell_type": "code",
   "outputs": [],
   "execution_count": null,
   "source": "",
   "id": "5b540632dff13659"
  }
 ],
 "metadata": {
  "kernelspec": {
   "display_name": "Python 3",
   "language": "python",
   "name": "python3"
  },
  "language_info": {
   "codemirror_mode": {
    "name": "ipython",
    "version": 2
   },
   "file_extension": ".py",
   "mimetype": "text/x-python",
   "name": "python",
   "nbconvert_exporter": "python",
   "pygments_lexer": "ipython2",
   "version": "2.7.6"
  }
 },
 "nbformat": 4,
 "nbformat_minor": 5
}
